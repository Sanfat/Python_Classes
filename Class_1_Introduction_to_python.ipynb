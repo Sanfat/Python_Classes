{
 "cells": [
  {
   "cell_type": "markdown",
   "id": "f37daeab",
   "metadata": {},
   "source": [
    "# Print Statement\n",
    "## Print Statement\n",
    "### Print Statement\n",
    "#### Print Statement\n",
    "##### Print Statement\n",
    "\n",
    "1. Print Statement\n",
    "2. Print Statement\n",
    "\n",
    "* Print Statement\n",
    "* Print Statement\n",
    "\n",
    "*Saniya*\n",
    "\n",
    "**Saniya**\n",
    "\n",
    "Print statement are used to print something on the screen"
   ]
  },
  {
   "cell_type": "code",
   "execution_count": null,
   "id": "95a42a2c",
   "metadata": {},
   "outputs": [],
   "source": []
  },
  {
   "cell_type": "code",
   "execution_count": 2,
   "id": "1497f07b",
   "metadata": {},
   "outputs": [
    {
     "name": "stdout",
     "output_type": "stream",
     "text": [
      "Saniy Fathima\n"
     ]
    }
   ],
   "source": [
    "print('Saniy Fathima')"
   ]
  },
  {
   "cell_type": "markdown",
   "id": "a5577c67",
   "metadata": {},
   "source": []
  },
  {
   "cell_type": "markdown",
   "id": "279125ed",
   "metadata": {},
   "source": []
  },
  {
   "cell_type": "markdown",
   "id": "6a8f780b",
   "metadata": {},
   "source": []
  },
  {
   "cell_type": "markdown",
   "id": "4eddc5b5",
   "metadata": {},
   "source": []
  },
  {
   "cell_type": "markdown",
   "id": "acbb6968",
   "metadata": {},
   "source": []
  },
  {
   "cell_type": "markdown",
   "id": "fb719cbe",
   "metadata": {},
   "source": []
  },
  {
   "cell_type": "markdown",
   "id": "31217fb5",
   "metadata": {},
   "source": []
  },
  {
   "cell_type": "markdown",
   "id": "b6ea136f",
   "metadata": {},
   "source": []
  }
 ],
 "metadata": {
  "kernelspec": {
   "display_name": "Python 3 (ipykernel)",
   "language": "python",
   "name": "python3"
  },
  "language_info": {
   "codemirror_mode": {
    "name": "ipython",
    "version": 3
   },
   "file_extension": ".py",
   "mimetype": "text/x-python",
   "name": "python",
   "nbconvert_exporter": "python",
   "pygments_lexer": "ipython3",
   "version": "3.9.7"
  }
 },
 "nbformat": 4,
 "nbformat_minor": 5
}
