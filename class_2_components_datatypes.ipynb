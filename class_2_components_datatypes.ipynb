{
 "cells": [
  {
   "cell_type": "code",
   "execution_count": 1,
   "metadata": {},
   "outputs": [
    {
     "data": {
      "text/plain": [
       "'/home/hulk/courses/ongoing_class/jan_batches/13_jan_python/python_classes'"
      ]
     },
     "execution_count": 1,
     "metadata": {},
     "output_type": "execute_result"
    }
   ],
   "source": [
    "# Python Programming Componenets\n",
    "\n",
    "1. literals - done \n",
    "2. constants - done\n",
    "3. Varibales - done\n",
    "4. Identifiers - done\n",
    "5. Reserved Words - done\n",
    "6. Statements and Expressions - done\n",
    "7. Block and indentation - done\n",
    "8. Comments - done"
   ]
  },
  {
   "cell_type": "markdown",
   "metadata": {},
   "source": [
    "# literals\n",
    "\n",
    "- any value that you see in programming language\n",
    "\n",
    "types of literals\n",
    "\n",
    "1. int literals - any value without a decimal point for eg 10, 200, -900\n",
    "2. float literals - any value with a decimal point for 10.0 , -99.999 , 100.23\n",
    "3. complex literals - any number that can be represented in the form of a+bj where a is real and b is imaginary for eg , 10+6j , -11-7j\n",
    "4. None literals - None\n",
    "5. Boolean literals - any value that is True / False\n",
    "6. string - any value that can be wriiten inside a '...' , \"....\" , \"\"\"...\"\"\""
   ]
  },
  {
   "cell_type": "code",
   "execution_count": null,
   "metadata": {},
   "outputs": [],
   "source": [
    "a = 10 # int\n",
    "b = -22.0 # float\n",
    "c = True # boolean\n",
    "d = 'afsaan' # string\n",
    "e = None # none\n",
    "f = 200-7j # complex\n",
    "\n",
    "# 10 , -22.0 , True etc thes are called as literlas"
   ]
  },
  {
   "cell_type": "code",
   "execution_count": null,
   "metadata": {},
   "outputs": [],
   "source": [
    "# 2. constants \n",
    "# 3. Varibales\n",
    "# 4. Identifiers\n",
    "\n",
    "constant and varibale are subset of indentifiers\n",
    "\n",
    "identifiers - any name used in python prohram so it can be a constant name , varibale name , class name , function\n",
    "\n",
    "Rules - \n",
    "\n",
    "1. allowed characters A-Z , a-z , 0-9 , _\n",
    "2. not allowed characters special characters\n",
    "3. you cannot start with a number 0-9\n",
    "4. Identifers are case sensitive\n",
    "5. all letters for constant should be capital (optional)\n",
    "6. Reserved word should not be used as identifer"
   ]
  },
  {
   "cell_type": "code",
   "execution_count": null,
   "metadata": {},
   "outputs": [],
   "source": [
    "# 1. allowrd characters A-Z , a-z , 0-9 , _\n",
    "\n",
    "afsaan = 20\n",
    "\n",
    "# a - varibale\n",
    "# = - op\n",
    "# 20 - literal\n",
    "\n"
   ]
  },
  {
   "cell_type": "markdown",
   "metadata": {},
   "source": [
    "Afsan - valid\n",
    "afsa__ - valid\n",
    "__afsan__ - valid\n",
    "__afsa@n__ - invalid"
   ]
  },
  {
   "cell_type": "code",
   "execution_count": 3,
   "metadata": {},
   "outputs": [
    {
     "ename": "SyntaxError",
     "evalue": "cannot assign to operator (<ipython-input-3-36f5da16babd>, line 1)",
     "output_type": "error",
     "traceback": [
      "\u001b[0;36m  File \u001b[0;32m\"<ipython-input-3-36f5da16babd>\"\u001b[0;36m, line \u001b[0;32m1\u001b[0m\n\u001b[0;31m    afsa@n = 10\u001b[0m\n\u001b[0m    ^\u001b[0m\n\u001b[0;31mSyntaxError\u001b[0m\u001b[0;31m:\u001b[0m cannot assign to operator\n"
     ]
    }
   ],
   "source": [
    "afsan = 10"
   ]
  },
  {
   "cell_type": "code",
   "execution_count": 6,
   "metadata": {},
   "outputs": [
    {
     "ename": "SyntaxError",
     "evalue": "invalid syntax (<ipython-input-6-8ca82912194f>, line 4)",
     "output_type": "error",
     "traceback": [
      "\u001b[0;36m  File \u001b[0;32m\"<ipython-input-6-8ca82912194f>\"\u001b[0;36m, line \u001b[0;32m4\u001b[0m\n\u001b[0;31m    10afsan = 20\u001b[0m\n\u001b[0m      ^\u001b[0m\n\u001b[0;31mSyntaxError\u001b[0m\u001b[0;31m:\u001b[0m invalid syntax\n"
     ]
    }
   ],
   "source": [
    "# 3. you cannot start with a number 0-9\n",
    "\n",
    "afsan10 = 20\n",
    "10afsan = 20"
   ]
  },
  {
   "cell_type": "code",
   "execution_count": 8,
   "metadata": {},
   "outputs": [
    {
     "name": "stdout",
     "output_type": "stream",
     "text": [
      "20\n"
     ]
    }
   ],
   "source": [
    "# 4. Identifers are case sensitive\n",
    "\n",
    "a = 10\n",
    "A = 20\n",
    "print(A)"
   ]
  },
  {
   "cell_type": "code",
   "execution_count": null,
   "metadata": {},
   "outputs": [],
   "source": [
    "afsan  = 10\n",
    "Afsan = 20"
   ]
  },
  {
   "cell_type": "code",
   "execution_count": 10,
   "metadata": {},
   "outputs": [
    {
     "name": "stdout",
     "output_type": "stream",
     "text": [
      "3536.6399999999994\n"
     ]
    }
   ],
   "source": [
    "# 5. all letters for constant should be capital (optional)\n",
    "\n",
    "PI = 3.14\n",
    "r = 24\n",
    "PI = 6.14\n",
    "c = PI*r*r\n",
    "print(c)"
   ]
  },
  {
   "cell_type": "code",
   "execution_count": 11,
   "metadata": {},
   "outputs": [
    {
     "name": "stdout",
     "output_type": "stream",
     "text": [
      "200\n"
     ]
    }
   ],
   "source": [
    "a = 100\n",
    "a = 200\n",
    "\n",
    "print(a)"
   ]
  },
  {
   "cell_type": "code",
   "execution_count": 12,
   "metadata": {},
   "outputs": [
    {
     "name": "stdout",
     "output_type": "stream",
     "text": [
      "['False', 'None', 'True', 'and', 'as', 'assert', 'async', 'await', 'break', 'class', 'continue', 'def', 'del', 'elif', 'else', 'except', 'finally', 'for', 'from', 'global', 'if', 'import', 'in', 'is', 'lambda', 'nonlocal', 'not', 'or', 'pass', 'raise', 'return', 'try', 'while', 'with', 'yield']\n"
     ]
    }
   ],
   "source": [
    "# 6. Reserved word should not be used as identifer\n",
    "\n",
    "\"\"\"\n",
    "Reserved words - are those words which is alrerady takken by python for internal use\n",
    "\"\"\"\n",
    "\n",
    "import keyword\n",
    "print(keyword.kwlist)"
   ]
  },
  {
   "cell_type": "code",
   "execution_count": 13,
   "metadata": {},
   "outputs": [
    {
     "ename": "SyntaxError",
     "evalue": "invalid syntax (<ipython-input-13-f937706f6a34>, line 1)",
     "output_type": "error",
     "traceback": [
      "\u001b[0;36m  File \u001b[0;32m\"<ipython-input-13-f937706f6a34>\"\u001b[0;36m, line \u001b[0;32m1\u001b[0m\n\u001b[0;31m    else = 100\u001b[0m\n\u001b[0m    ^\u001b[0m\n\u001b[0;31mSyntaxError\u001b[0m\u001b[0;31m:\u001b[0m invalid syntax\n"
     ]
    }
   ],
   "source": [
    "else = 100"
   ]
  },
  {
   "cell_type": "code",
   "execution_count": null,
   "metadata": {},
   "outputs": [],
   "source": [
    "SECRET_KEY = '*******'\n",
    "\n",
    "first_name = 'afsaan'\n",
    "last_name = 'khan'\n",
    "password = 'khan'\n"
   ]
  },
  {
   "cell_type": "markdown",
   "metadata": {},
   "source": [
    "afsan valid\n",
    "messi valld\n",
    "mess! invalid\n",
    "__messi__  valid\n",
    "_#afsan_ invalid\n",
    "if invalid\n",
    "false  valid\n",
    "True  invalid\n",
    "afsan-khan  invalid\n",
    "ronaldo*  invalid\n",
    "Try   valid\n",
    "none  valid\n",
    "Pass  valid\n",
    "raise invalid\n",
    "If    valid"
   ]
  },
  {
   "cell_type": "code",
   "execution_count": null,
   "metadata": {},
   "outputs": [],
   "source": [
    "# Statements and Expressions\n",
    "\n",
    "Expression - combination of varibales and literals to give some value , so expression alwasy return some result\n",
    "\n",
    "Statments - dose not retrun any output"
   ]
  },
  {
   "cell_type": "code",
   "execution_count": 14,
   "metadata": {},
   "outputs": [
    {
     "data": {
      "text/plain": [
       "30"
      ]
     },
     "execution_count": 14,
     "metadata": {},
     "output_type": "execute_result"
    }
   ],
   "source": [
    "# Expression\n",
    "\n",
    "10 + 20"
   ]
  },
  {
   "cell_type": "code",
   "execution_count": 15,
   "metadata": {},
   "outputs": [
    {
     "data": {
      "text/plain": [
       "'DataScience'"
      ]
     },
     "execution_count": 15,
     "metadata": {},
     "output_type": "execute_result"
    }
   ],
   "source": [
    "'Data' + 'Science'"
   ]
  },
  {
   "cell_type": "code",
   "execution_count": null,
   "metadata": {},
   "outputs": [],
   "source": [
    "variabkle = 10\n",
    "\n",
    "# 10 is the simplest expression that we have"
   ]
  },
  {
   "cell_type": "code",
   "execution_count": 16,
   "metadata": {},
   "outputs": [],
   "source": [
    "# statements\n",
    "\n",
    "a = 10"
   ]
  },
  {
   "cell_type": "code",
   "execution_count": 17,
   "metadata": {},
   "outputs": [],
   "source": [
    "for i in range(5):\n",
    "    pass"
   ]
  },
  {
   "cell_type": "code",
   "execution_count": 18,
   "metadata": {},
   "outputs": [],
   "source": [
    "def f1():\n",
    "    pass"
   ]
  },
  {
   "cell_type": "code",
   "execution_count": null,
   "metadata": {},
   "outputs": [],
   "source": [
    "a = 10 - statement\n",
    "b = 20 - statment\n",
    "a+b - expression\n",
    "for i range(20): # statment\n",
    "    pass\n",
    "10 - exp\n",
    "20 - exp\n",
    "30 - exp"
   ]
  },
  {
   "cell_type": "code",
   "execution_count": null,
   "metadata": {},
   "outputs": [],
   "source": [
    "# 7. Block and indentation\n",
    "\n",
    "- block is basically a set fo statments\n",
    "\n",
    "\"\"\"\n",
    "stat 1\n",
    "stat 2\n",
    "stat 3\n",
    "stat 4\n",
    "stat 5\n",
    "stat 6\n",
    "\"\"\"\n",
    "\n",
    "if i exec this above code - 1,2,3,4,5,6\n",
    "\n",
    "\"\"\"\n",
    "\n",
    "stat 1\n",
    "stat 2\n",
    "if condtion\n",
    "stat 3\n",
    "stat 4\n",
    "stat 5\n",
    "stat 6\n",
    "\n",
    "\"\"\"\n",
    "\n",
    "indentation\n",
    "\n",
    "\"\"\"\n",
    "\n",
    "stat 1\n",
    "stat 2\n",
    "if condtion\n",
    "   stat 3\n",
    "   stat 4\n",
    "stat 5\n",
    "stat 6\n",
    "\n",
    "\"\"\""
   ]
  },
  {
   "cell_type": "code",
   "execution_count": 24,
   "metadata": {},
   "outputs": [],
   "source": [
    "# comments\n",
    "\n",
    "- Comments can be used to explain python code\n",
    "- comments can be used to make the code more readable\n",
    "- comments are used to prevent the exec when testing the code"
   ]
  },
  {
   "cell_type": "code",
   "execution_count": null,
   "metadata": {},
   "outputs": [],
   "source": [
    "# version 1\n",
    "\n",
    "PI = 3.14\n",
    "r = 5\n",
    "a = r*r\n",
    "print(a)"
   ]
  },
  {
   "cell_type": "code",
   "execution_count": null,
   "metadata": {},
   "outputs": [],
   "source": [
    "# area of a circle\n",
    "\n",
    "PI = 3.14 # pi value\n",
    "r = 5  # side of sqaure\n",
    "a = r*r # area of sqaure\n",
    "print(a)"
   ]
  },
  {
   "cell_type": "code",
   "execution_count": 32,
   "metadata": {},
   "outputs": [
    {
     "name": "stdout",
     "output_type": "stream",
     "text": [
      "20\n"
     ]
    }
   ],
   "source": [
    "#  comments are used to prevent the exec when testing the code\n",
    "\n",
    "a = 10\n",
    "b = 20\n",
    "# c = 30\n",
    "d = a+b\n",
    "e = a-b+c\n",
    "\n",
    "# print(d)\n",
    "print(e)"
   ]
  },
  {
   "cell_type": "code",
   "execution_count": null,
   "metadata": {},
   "outputs": [],
   "source": [
    "a = 10\n",
    "b = 20\n",
    "c = 30\n",
    "\n",
    "print(a)"
   ]
  },
  {
   "cell_type": "code",
   "execution_count": 33,
   "metadata": {},
   "outputs": [
    {
     "ename": "SyntaxError",
     "evalue": "invalid syntax (<ipython-input-33-389abebfb15e>, line 2)",
     "output_type": "error",
     "traceback": [
      "\u001b[0;36m  File \u001b[0;32m\"<ipython-input-33-389abebfb15e>\"\u001b[0;36m, line \u001b[0;32m2\u001b[0m\n\u001b[0;31m    if = 20\u001b[0m\n\u001b[0m       ^\u001b[0m\n\u001b[0;31mSyntaxError\u001b[0m\u001b[0;31m:\u001b[0m invalid syntax\n"
     ]
    }
   ],
   "source": [
    "a = 10\n",
    "if = 20\n",
    "c = 30\n",
    "\n",
    "print(a)"
   ]
  },
  {
   "cell_type": "markdown",
   "metadata": {},
   "source": [
    "# Datatypes"
   ]
  },
  {
   "cell_type": "markdown",
   "metadata": {},
   "source": [
    "## we have 2 types of datatypes in python\n",
    "\n",
    "1. Fundamental datatypes - are the primitive (basic) datatype\n",
    "\n",
    "- int\n",
    "- float\n",
    "- complex\n",
    "- String\n",
    "- None\n",
    "- Boolean\n",
    "\n",
    "2. Derived datatypes - composed of fundamental data types\n",
    "\n",
    "- list\n",
    "- tuple\n",
    "- set\n",
    "- dic\n",
    "- range"
   ]
  },
  {
   "cell_type": "markdown",
   "metadata": {},
   "source": [
    "# Integer data types\n",
    "\n",
    "- any value without a decimal point , 1 , -100 , -200 , etc"
   ]
  },
  {
   "cell_type": "code",
   "execution_count": 34,
   "metadata": {},
   "outputs": [
    {
     "name": "stdout",
     "output_type": "stream",
     "text": [
      "10\n"
     ]
    }
   ],
   "source": [
    "a = 10\n",
    "print(a)"
   ]
  },
  {
   "cell_type": "code",
   "execution_count": 35,
   "metadata": {},
   "outputs": [
    {
     "name": "stdout",
     "output_type": "stream",
     "text": [
      "<class 'int'>\n"
     ]
    }
   ],
   "source": [
    "# to check the datatype whe have to use type()\n",
    "a = 200\n",
    "print(type(a))"
   ]
  },
  {
   "cell_type": "code",
   "execution_count": 36,
   "metadata": {},
   "outputs": [
    {
     "name": "stdout",
     "output_type": "stream",
     "text": [
      "<class 'int'>\n"
     ]
    }
   ],
   "source": [
    "a = 200\n",
    "print(type(200))"
   ]
  },
  {
   "cell_type": "code",
   "execution_count": null,
   "metadata": {},
   "outputs": [],
   "source": [
    "# Types of operation we can perform on integer data types\n",
    "\n",
    "1. Arithmatic op\n",
    "2. Comparison op\n",
    "3. Equality op\n",
    "4. ASCII\n",
    "5. logical op\n",
    "6. bitwise op\n",
    "7. indentity op\n",
    "8. membership"
   ]
  },
  {
   "cell_type": "code",
   "execution_count": null,
   "metadata": {},
   "outputs": [],
   "source": []
  },
  {
   "cell_type": "code",
   "execution_count": null,
   "metadata": {},
   "outputs": [],
   "source": []
  }
 ],
 "metadata": {
  "kernelspec": {
   "display_name": "Python 3",
   "language": "python",
   "name": "python3"
  },
  "language_info": {
   "codemirror_mode": {
    "name": "ipython",
    "version": 3
   },
   "file_extension": ".py",
   "mimetype": "text/x-python",
   "name": "python",
   "nbconvert_exporter": "python",
   "pygments_lexer": "ipython3",
   "version": "3.8.5"
  }
 },
 "nbformat": 4,
 "nbformat_minor": 4
}
