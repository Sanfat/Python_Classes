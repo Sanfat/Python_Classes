{
 "cells": [
  {
   "cell_type": "code",
   "execution_count": 1,
   "metadata": {},
   "outputs": [
    {
     "ename": "SyntaxError",
     "evalue": "invalid syntax (<ipython-input-1-f967feaf33b3>, line 3)",
     "output_type": "error",
     "traceback": [
      "\u001b[0;36m  File \u001b[0;32m\"<ipython-input-1-f967feaf33b3>\"\u001b[0;36m, line \u001b[0;32m3\u001b[0m\n\u001b[0;31m    - & - bitwise and\u001b[0m\n\u001b[0m      ^\u001b[0m\n\u001b[0;31mSyntaxError\u001b[0m\u001b[0;31m:\u001b[0m invalid syntax\n"
     ]
    }
   ],
   "source": [
    "# bitwise op\n",
    "\n",
    "# - & - bitwise and\n",
    "# - | - bitwise or\n",
    "# - ^ - bitwise xor\n",
    "# - ~ - bitwsie not\n",
    "# - >> - bitwise right shift\n",
    "# - << - bitwsie left shift"
   ]
  },
  {
   "cell_type": "code",
   "execution_count": 2,
   "metadata": {},
   "outputs": [
    {
     "name": "stdout",
     "output_type": "stream",
     "text": [
      "-11\n"
     ]
    }
   ],
   "source": [
    "a = 10\n",
    "\n",
    "\"\"\"\n",
    "so add 1 to 10 ---> 11\n",
    "revrse the sign of 11 --> -11\n",
    "\"\"\"\n",
    "\n",
    "print(~10)"
   ]
  },
  {
   "cell_type": "code",
   "execution_count": 26,
   "metadata": {},
   "outputs": [
    {
     "name": "stdout",
     "output_type": "stream",
     "text": [
      "99\n"
     ]
    }
   ],
   "source": [
    "a = -100\n",
    "\n",
    "\"\"\"\n",
    "so add 1 to -100 ---> -99\n",
    "revrse the sign of 11 --> 99\n",
    "\"\"\"\n",
    "\n",
    "print(~a)"
   ]
  },
  {
   "cell_type": "code",
   "execution_count": 5,
   "metadata": {},
   "outputs": [
    {
     "name": "stdout",
     "output_type": "stream",
     "text": [
      "98\n"
     ]
    }
   ],
   "source": [
    "a = -99\n",
    "\n",
    "\"\"\"\n",
    "so add 1 to 10 ---> 11\n",
    "revrse the sign of 11 --> -11\n",
    "\"\"\"\n",
    "\n",
    "print(~a)"
   ]
  },
  {
   "cell_type": "code",
   "execution_count": 7,
   "metadata": {},
   "outputs": [
    {
     "name": "stdout",
     "output_type": "stream",
     "text": [
      "6\n"
     ]
    }
   ],
   "source": [
    "# - >> - bitwise right shift - (A // (2 ** n))\n",
    "\n",
    "a = 100\n",
    "print(a >> 4)  # (A >> n)  ---> (A // (2 ** n))"
   ]
  },
  {
   "cell_type": "code",
   "execution_count": 10,
   "metadata": {},
   "outputs": [
    {
     "name": "stdout",
     "output_type": "stream",
     "text": [
      "1600\n"
     ]
    }
   ],
   "source": [
    "# - << - bitwise left shift - (A * (2 ** n))\n",
    "\n",
    "a = 100\n",
    "print(a << 4)  # (A << n)  ---> (A * (2 ** n))"
   ]
  },
  {
   "cell_type": "code",
   "execution_count": 9,
   "metadata": {},
   "outputs": [
    {
     "data": {
      "text/plain": [
       "6"
      ]
     },
     "execution_count": 9,
     "metadata": {},
     "output_type": "execute_result"
    }
   ],
   "source": [
    "100 * 16"
   ]
  },
  {
   "cell_type": "code",
   "execution_count": null,
   "metadata": {},
   "outputs": [],
   "source": [
    "6. Assignment operators / compound operators\n",
    "\n",
    "+= , -= , =, /= , %=, //= . *= , &= , |= , ^=, >>= , <<=\n",
    "\n",
    "\n",
    "take a 5 and store in a\n",
    "add 10 to a and reasgin to a\n",
    "\n"
   ]
  },
  {
   "cell_type": "code",
   "execution_count": 19,
   "metadata": {},
   "outputs": [
    {
     "name": "stdout",
     "output_type": "stream",
     "text": [
      "2.5\n",
      "2\n",
      "0\n",
      "7\n",
      "7\n",
      "1\n",
      "20\n"
     ]
    }
   ],
   "source": [
    "a = 5\n",
    "a +=10 #---> a = a+10\n",
    "\n",
    "a= 5\n",
    "a -=10 #---> a = a-10\n",
    "\n",
    "a = 5\n",
    "a %=2 # --> a = a%2\n",
    "\n",
    "\n",
    "a = 5\n",
    "a /=2 # --> a = a/2\n",
    "print(a)\n",
    "\n",
    "a = 5\n",
    "a //=2 # --> a = a//2\n",
    "print(a)\n",
    "\n",
    "a = 5\n",
    "a &=2 # --> a = a&2\n",
    "print(a)\n",
    "\n",
    "a = 5\n",
    "a |=2 # --> a = a|2\n",
    "print(a)\n",
    "\n",
    "a = 5\n",
    "a ^=2 # --> a = a^2\n",
    "print(a)\n",
    "\n",
    "a = 5\n",
    "a >>=2 # --> a = a>>2\n",
    "print(a)\n",
    "\n",
    "a = 5\n",
    "a <<=2 # --> a = a<<2\n",
    "print(a)"
   ]
  },
  {
   "cell_type": "code",
   "execution_count": 12,
   "metadata": {},
   "outputs": [
    {
     "data": {
      "text/plain": [
       "1"
      ]
     },
     "execution_count": 12,
     "metadata": {},
     "output_type": "execute_result"
    }
   ],
   "source": [
    "7. Identity operators\n",
    "\n",
    "\"\"\"\n",
    "op - is / is not\n",
    "to check if the ids of two varibales are same or not\n",
    "- to chekc if two values are located ion the same part of the memory\n",
    "return  - Bool\n",
    "\n",
    "\"\"\""
   ]
  },
  {
   "cell_type": "code",
   "execution_count": 5,
   "metadata": {},
   "outputs": [
    {
     "name": "stdout",
     "output_type": "stream",
     "text": [
      "93950423003040\n",
      "93950423005600\n",
      "False\n"
     ]
    }
   ],
   "source": [
    "a = 20\n",
    "b = 100\n",
    "\n",
    "# check the address of a and b\n",
    "print(id(a))\n",
    "print(id(b))\n",
    "\n",
    "print(a is b)"
   ]
  },
  {
   "cell_type": "code",
   "execution_count": 9,
   "metadata": {},
   "outputs": [
    {
     "name": "stdout",
     "output_type": "stream",
     "text": [
      "93950423003040\n",
      "93950423003040\n",
      "True\n"
     ]
    }
   ],
   "source": [
    "a = 20\n",
    "b = 20\n",
    "\n",
    "print(id(a))\n",
    "print(id(b))\n",
    "\n",
    "print (a is b)"
   ]
  },
  {
   "cell_type": "code",
   "execution_count": 1,
   "metadata": {},
   "outputs": [
    {
     "name": "stdout",
     "output_type": "stream",
     "text": [
      "140174044902064\n",
      "140174044902480\n",
      "False\n"
     ]
    }
   ],
   "source": [
    "a = 700\n",
    "b = 700\n",
    "\n",
    "print(id(a))\n",
    "print(id(b))\n",
    "\n",
    "print(a is b)"
   ]
  },
  {
   "cell_type": "code",
   "execution_count": null,
   "metadata": {},
   "outputs": [],
   "source": [
    "a = 10\n",
    "b = 10"
   ]
  },
  {
   "cell_type": "code",
   "execution_count": null,
   "metadata": {},
   "outputs": [],
   "source": [
    "# why we are getting 2 diiferent value ? \n",
    "\n",
    "ans - beacuse of rules in object resulability concept\n",
    "\n",
    "1. int = -5 to 256\n",
    "2. float = not object resulaiblity for float\n",
    "3. Bool = True and False\n",
    "4. string = A-Z, a-z , 0-9 , _\n",
    "5. None"
   ]
  },
  {
   "cell_type": "code",
   "execution_count": 3,
   "metadata": {},
   "outputs": [
    {
     "name": "stdout",
     "output_type": "stream",
     "text": [
      "140174044902480\n",
      "140174044902288\n",
      "False\n"
     ]
    }
   ],
   "source": [
    "a = 10.2\n",
    "b = 10.2\n",
    "\n",
    "print(id(a))\n",
    "print(id(b))\n",
    "\n",
    "\n",
    "print(a is b)"
   ]
  },
  {
   "cell_type": "code",
   "execution_count": 4,
   "metadata": {},
   "outputs": [
    {
     "name": "stdout",
     "output_type": "stream",
     "text": [
      "140174044902416\n",
      "140174044902416\n",
      "True\n"
     ]
    }
   ],
   "source": [
    "a = 100\n",
    "b = a"
   ]
  },
  {
   "cell_type": "code",
   "execution_count": 8,
   "metadata": {},
   "outputs": [
    {
     "name": "stdout",
     "output_type": "stream",
     "text": [
      "140174044628720\n",
      "140174044628720\n"
     ]
    }
   ],
   "source": [
    "# 4. string = A-Z, a-z , 0-9 , _\n",
    "\n",
    "a = 'afsaan'\n",
    "b = 'afsaan'\n",
    "\n",
    "print(id(a))\n",
    "print(id(b))"
   ]
  },
  {
   "cell_type": "code",
   "execution_count": null,
   "metadata": {},
   "outputs": [],
   "source": [
    "9. Memebrship operators -- we donot have memebrship op for integers\n",
    "\n",
    "\"\"\"\n",
    "op - in / not in\n",
    "it checks if the sub seq is present in the seq\n",
    "return - Bool\n",
    "\"\"\""
   ]
  },
  {
   "cell_type": "code",
   "execution_count": 11,
   "metadata": {},
   "outputs": [
    {
     "name": "stdout",
     "output_type": "stream",
     "text": [
      "False\n"
     ]
    }
   ],
   "source": [
    "a = 'i love to play football'\n",
    "print('love' in a)"
   ]
  },
  {
   "cell_type": "code",
   "execution_count": null,
   "metadata": {},
   "outputs": [],
   "source": [
    "8. Ternary op\n",
    "\n",
    "- expr if cond else exp2 --> result will be expr if cond is true else exp2\n",
    "- exp1 if cond_1 else exp2 if cond_2 else exp3 "
   ]
  },
  {
   "cell_type": "code",
   "execution_count": 15,
   "metadata": {},
   "outputs": [
    {
     "name": "stdout",
     "output_type": "stream",
     "text": [
      "hello\n",
      "hello\n"
     ]
    }
   ],
   "source": [
    "print(\"hola\" if 100<20 else \"hello\")\n",
    "print(\"hola\" if 100<20 else \"messi\" if 10==100 else \"hello\")"
   ]
  },
  {
   "cell_type": "code",
   "execution_count": 22,
   "metadata": {},
   "outputs": [
    {
     "name": "stdout",
     "output_type": "stream",
     "text": [
      "100\n",
      "100\n",
      "0x64\n",
      "100\n"
     ]
    }
   ],
   "source": [
    "# binary , ocatal , hexadecimal of integers number\n",
    "\n",
    "# binary representation - 1,0, 0b, bin()\n",
    "\n",
    "num = 100\n",
    "bin(100)\n",
    "print(0b1100100)\n",
    "\n",
    "# octal representation - 0-7,  0o, oct()\n",
    "num = 100\n",
    "oct(100)\n",
    "print(0o144)\n",
    "\n",
    "# hexadecimal representation - 0-9,a/A-f/F  0x, hex()\n",
    "num = 100\n",
    "print(hex(100))\n",
    "print(0x64)"
   ]
  },
  {
   "cell_type": "code",
   "execution_count": null,
   "metadata": {},
   "outputs": [],
   "source": [
    "# operator precedence\n",
    "Bodmas\n",
    "\n",
    "()\n",
    "**\n",
    "+x, -x , ~x ---> unary plus , unary minus , bitwise not\n",
    "*, / , // , %\n",
    "+ , -\n",
    ">> , <<\n",
    "&\n",
    "^\n",
    "|\n",
    "==, != , > , >= , <= , is , is not, in, not in\n",
    "not\n",
    "and\n",
    "or"
   ]
  },
  {
   "cell_type": "code",
   "execution_count": 24,
   "metadata": {},
   "outputs": [
    {
     "data": {
      "text/plain": [
       "-10"
      ]
     },
     "execution_count": 24,
     "metadata": {},
     "output_type": "execute_result"
    }
   ],
   "source": [
    "1. arithmatic\n",
    "2. comparsion\n",
    "3. equality\n",
    "4. identity\n",
    "5. membership\n",
    "6. logical op\n",
    "7. bitwsie op\n",
    "8. Assignment / Compund\n",
    "9. Ternary op"
   ]
  },
  {
   "cell_type": "code",
   "execution_count": 25,
   "metadata": {},
   "outputs": [
    {
     "data": {
      "text/plain": [
       "'/home/hulk/courses/ongoing_class/jan_batches/13_jan_python/python_classes'"
      ]
     },
     "execution_count": 25,
     "metadata": {},
     "output_type": "execute_result"
    }
   ],
   "source": [
    "pwd"
   ]
  },
  {
   "cell_type": "code",
   "execution_count": null,
   "metadata": {},
   "outputs": [],
   "source": [
    "# typecasting\n",
    "# input and out function in python\n",
    "# float\n",
    "# none\n",
    "# complex\n",
    "# string - intro"
   ]
  }
 ],
 "metadata": {
  "kernelspec": {
   "display_name": "Python 3",
   "language": "python",
   "name": "python3"
  },
  "language_info": {
   "codemirror_mode": {
    "name": "ipython",
    "version": 3
   },
   "file_extension": ".py",
   "mimetype": "text/x-python",
   "name": "python",
   "nbconvert_exporter": "python",
   "pygments_lexer": "ipython3",
   "version": "3.8.5"
  }
 },
 "nbformat": 4,
 "nbformat_minor": 4
}
